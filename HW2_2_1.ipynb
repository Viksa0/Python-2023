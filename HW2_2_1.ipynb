{
  "nbformat": 4,
  "nbformat_minor": 0,
  "metadata": {
    "colab": {
      "provenance": []
    },
    "kernelspec": {
      "name": "python3",
      "display_name": "Python 3"
    },
    "language_info": {
      "name": "python"
    }
  },
  "cells": [
    {
      "cell_type": "markdown",
      "source": [
        "ДЗ 1 Классификация\n",
        "\n",
        "Домашнее задание из двух частей. (после НГ)\n",
        "База про спортсменов\n",
        "\n",
        "Креативная часть: найти парамеры и комбинации их, которые будут увеличивать accuracy\n",
        "\n",
        "Техническая часть: сделать под это всё удобные обёртки. Например, это функция, которая просто принимает список фичей, а на выходе показывает результат фита"
      ],
      "metadata": {
        "id": "6H99_0GkIRG4"
      }
    },
    {
      "cell_type": "code",
      "source": [
        "import pandas as pd\n",
        "from sklearn import model_selection, linear_model\n",
        "from sklearn.metrics import confusion_matrix\n",
        "\n",
        "data_frame = pd.read_csv(\"athletes_sochi.txt\")\n",
        "data_frame.dropna(inplace=True)\n",
        "data_frame[\"BMI\"] = data_frame[\"weight\"] / (data_frame[\"height\"]**2)\n",
        "data_frame[\"gender\"] = data_frame[\"gender\"].map(lambda gender: 1 if gender == \"Male\" else 0)\n",
        "\n",
        "feature_set_0 = [\"weight\", \"height\", \"BMI\"]\n",
        "feature_set_1 = [\"weight\", \"height\", \"total_medals\", \"BMI\"]\n",
        "target_variable = \"gender\"\n",
        "\n",
        "def compute_accuracy(data, features, target):\n",
        "    selected_data = data[features + [target]].sample(frac=1)\n",
        "    inputs = selected_data[features]\n",
        "    outputs = selected_data[target]\n",
        "\n",
        "    x_train, x_test, y_train, y_test = model_selection.train_test_split(inputs, outputs, test_size=0.2)\n",
        "    logistic_model = linear_model.LogisticRegression()\n",
        "    logistic_model.fit(x_train, y_train)\n",
        "    predictions = logistic_model.predict(x_test)\n",
        "    (true_neg, false_pos), (false_neg, true_pos) = confusion_matrix(y_test, predictions)\n",
        "\n",
        "    return (true_neg + true_pos) / (true_pos + false_pos + true_neg + false_neg)\n",
        "\n",
        "print(\"Accuracy 0: \", compute_accuracy(data_frame, feature_set_0, target_variable))\n",
        "print(\"Accuracy 1: \", compute_accuracy(data_frame, feature_set_1, target_variable))"
      ],
      "metadata": {
        "colab": {
          "base_uri": "https://localhost:8080/"
        },
        "id": "eiaY1bGbLanM",
        "outputId": "3001e44c-8099-4f72-cd1f-61fbc8425314"
      },
      "execution_count": 2,
      "outputs": [
        {
          "output_type": "stream",
          "name": "stdout",
          "text": [
            "Accuracy 0:  0.8608870967741935\n",
            "Accuracy 1:  0.8729838709677419\n"
          ]
        }
      ]
    },
    {
      "cell_type": "markdown",
      "source": [
        "ДЗ 2 Кластеризация (после НГ)\n",
        "\n",
        "Креативная часть: Релизовать на питоне ДЗ от вашего преподователя по МО\n",
        "\n",
        "Техническая часть: сделать под это всё удобные обёртки. Например, это функция, которая просто принимает список фичей, а на выходе показывает результат фита"
      ],
      "metadata": {
        "id": "AZeUYymdNBvb"
      }
    }
  ]
}