{
  "cells": [
    {
      "cell_type": "markdown",
      "id": "d25b4b54",
      "metadata": {
        "id": "d25b4b54"
      },
      "source": [
        "## ДЗ 5"
      ]
    },
    {
      "cell_type": "markdown",
      "id": "af711d1c",
      "metadata": {
        "id": "af711d1c"
      },
      "source": [
        "### Задание 1"
      ]
    },
    {
      "cell_type": "markdown",
      "id": "5a84d36a",
      "metadata": {
        "id": "5a84d36a"
      },
      "source": [
        "#### Задача 1. Напишите программу с классом Student, в котором есть три атрибута: name, groupNumber и age."
      ]
    },
    {
      "cell_type": "markdown",
      "id": "bcf4f702",
      "metadata": {
        "id": "bcf4f702"
      },
      "source": [
        "По умолчанию name = Ivan, age = 18, groupNumber = 10A. Необходимо создать пять методов: getName, getAge, getGroupNumber, setNameAge, setGroupNumber. Метод getName нужен для получения данных об имени конкретного студента, метод getAge нужен для получения данных о возрасте конкретного студента, vетод setGroupNumberнужен для получения данных о номере группы конкретного студента. Метод SetNameAge позволяет изменить данные атрибутов установленных по умолчанию, метод setGroupNumber позволяет изменить номер группы установленный по умолчанию. В программе необходимо создать пять экземпляров класса Student, установить им разные имена, возраст и номер группы."
      ]
    },
    {
      "cell_type": "code",
      "execution_count": 2,
      "id": "4a5a1ad5",
      "metadata": {
        "id": "4a5a1ad5"
      },
      "outputs": [],
      "source": [
        "class Student(object):\n",
        "    def __init__(self, name = 'Ivan', age = 18, groupNumber = '10A'):\n",
        "        self.name = name\n",
        "        self.age = age\n",
        "        self.groupNumber = groupNumber\n",
        "    def __str__(self):\n",
        "        return \"%s %s %s\" % (\n",
        "            self.name, self.age, self.groupNumber\n",
        "        )\n",
        "    def getAge(self):\n",
        "        return self.age\n",
        "    def getName(self):\n",
        "        return self.name\n",
        "    def getGroupNumber(self):\n",
        "        return self.groupNumber\n",
        "    def setNameAge(self, newName, newAge):\n",
        "        self.name = newName\n",
        "        self.age = newAge\n",
        "    def setGroupNumber(self, newGroupNumber):\n",
        "        self.groupNumber = newGroupNumber\n",
        "\n",
        "s1 = Student('Vika', 10, '10B')\n",
        "s2 = Student('Ksusha', 15)\n",
        "s3 = Student()\n",
        "s4= Student('Masha', 100, '11A')\n",
        "s5 = Student('Oleg')"
      ]
    },
    {
      "cell_type": "code",
      "execution_count": 3,
      "id": "903d569d",
      "metadata": {
        "colab": {
          "base_uri": "https://localhost:8080/"
        },
        "id": "903d569d",
        "outputId": "446b0eb6-4936-422d-a0f0-233b16286b9b"
      },
      "outputs": [
        {
          "output_type": "stream",
          "name": "stdout",
          "text": [
            "Vika 10 10B\n",
            "Ksusha 15 10A\n",
            "Ivan 18 10A\n",
            "Masha 100 11A\n",
            "Oleg 18 10A\n"
          ]
        }
      ],
      "source": [
        "print(s1)\n",
        "print(s2)\n",
        "print(s3)\n",
        "print(s4)\n",
        "print(s5)"
      ]
    },
    {
      "cell_type": "code",
      "execution_count": 4,
      "id": "402c9ff4",
      "metadata": {
        "colab": {
          "base_uri": "https://localhost:8080/",
          "height": 35
        },
        "id": "402c9ff4",
        "outputId": "a8696848-38f9-4280-ebf0-c9acc23f75a7"
      },
      "outputs": [
        {
          "output_type": "execute_result",
          "data": {
            "text/plain": [
              "'Vika'"
            ],
            "application/vnd.google.colaboratory.intrinsic+json": {
              "type": "string"
            }
          },
          "metadata": {},
          "execution_count": 4
        }
      ],
      "source": [
        "s1.getName()"
      ]
    },
    {
      "cell_type": "code",
      "execution_count": 5,
      "id": "f53e8749",
      "metadata": {
        "colab": {
          "base_uri": "https://localhost:8080/"
        },
        "id": "f53e8749",
        "outputId": "7360de97-0a4b-4c85-95d9-03fa13c5a215"
      },
      "outputs": [
        {
          "output_type": "execute_result",
          "data": {
            "text/plain": [
              "10"
            ]
          },
          "metadata": {},
          "execution_count": 5
        }
      ],
      "source": [
        "s1.getAge()"
      ]
    },
    {
      "cell_type": "code",
      "execution_count": 6,
      "id": "924f310f",
      "metadata": {
        "colab": {
          "base_uri": "https://localhost:8080/",
          "height": 35
        },
        "id": "924f310f",
        "outputId": "2b26780a-4663-438b-adf4-d764cf9eb66c"
      },
      "outputs": [
        {
          "output_type": "execute_result",
          "data": {
            "text/plain": [
              "'10B'"
            ],
            "application/vnd.google.colaboratory.intrinsic+json": {
              "type": "string"
            }
          },
          "metadata": {},
          "execution_count": 6
        }
      ],
      "source": [
        "s1.getGroupNumber()"
      ]
    },
    {
      "cell_type": "code",
      "execution_count": 7,
      "id": "fa018384",
      "metadata": {
        "colab": {
          "base_uri": "https://localhost:8080/"
        },
        "id": "fa018384",
        "outputId": "0e56da02-14aa-4071-99ba-bd91dcee93e4"
      },
      "outputs": [
        {
          "output_type": "stream",
          "name": "stdout",
          "text": [
            "Vika 15 10B\n"
          ]
        }
      ],
      "source": [
        "s1.setNameAge('Vika', 15)\n",
        "print(s1)"
      ]
    },
    {
      "cell_type": "code",
      "execution_count": 8,
      "id": "87e2b3c2",
      "metadata": {
        "colab": {
          "base_uri": "https://localhost:8080/"
        },
        "id": "87e2b3c2",
        "outputId": "d43d2385-07c6-4de1-fc5f-76a2d46bc64f"
      },
      "outputs": [
        {
          "output_type": "stream",
          "name": "stdout",
          "text": [
            "Vika 15 18A\n"
          ]
        }
      ],
      "source": [
        "s1.setGroupNumber('18A')\n",
        "print(s1)"
      ]
    },
    {
      "cell_type": "markdown",
      "id": "d919fc48",
      "metadata": {
        "id": "d919fc48"
      },
      "source": [
        "### Задание 2"
      ]
    },
    {
      "cell_type": "markdown",
      "id": "79ab9755",
      "metadata": {
        "id": "79ab9755"
      },
      "source": [
        "####  Напишите программу с классом Car. Создайте конструктор класса Car."
      ]
    },
    {
      "cell_type": "markdown",
      "id": "20790308",
      "metadata": {
        "id": "20790308"
      },
      "source": [
        "Создайте атрибуты класса Car — color (цвет), type (тип), year (год). Напишите пять методов. Первый — запуск автомобиля, при его вызове выводится сообщение «Автомобиль заведен». Второй — отключение автомобиля — выводит сообщение «Автомобиль заглушен». Третий — присвоение автомобилю года выпуска. Четвертый метод — присвоение автомобилю типа. Пятый — присвоение автомобилю цвета."
      ]
    },
    {
      "cell_type": "code",
      "execution_count": 9,
      "id": "d0b27c47",
      "metadata": {
        "colab": {
          "base_uri": "https://localhost:8080/"
        },
        "id": "d0b27c47",
        "outputId": "a7e11d10-b0b6-4e1a-d857-bc4f11ed3f41"
      },
      "outputs": [
        {
          "output_type": "stream",
          "name": "stdout",
          "text": [
            "Синий Порш 2023\n"
          ]
        }
      ],
      "source": [
        "class Car(object):\n",
        "    def __init__(self, color, type, year):\n",
        "        self.color = color\n",
        "        self.type = type\n",
        "        self.year = year\n",
        "    def __str__(self):\n",
        "        return \"%s %s %s\" % (\n",
        "            self.color, self.type, self.year\n",
        "        )\n",
        "    def on(self):\n",
        "        print('Автомобиль заведен')\n",
        "    def off(self):\n",
        "        print('Автомобиль заглушен')\n",
        "    def setYear(self, newYear):\n",
        "        self.year = newYear\n",
        "    def setType(self, newType):\n",
        "        self.type = newType\n",
        "    def setColor(self, newColor):\n",
        "        self.color = newColor\n",
        "\n",
        "MyCar = Car('Синий', 'Порш', 2023)\n",
        "\n",
        "print(MyCar)"
      ]
    },
    {
      "cell_type": "code",
      "execution_count": 10,
      "id": "7ee6af8e",
      "metadata": {
        "colab": {
          "base_uri": "https://localhost:8080/"
        },
        "id": "7ee6af8e",
        "outputId": "780a573f-7fbd-49dd-e78f-40e3172d0b95"
      },
      "outputs": [
        {
          "output_type": "stream",
          "name": "stdout",
          "text": [
            "Автомобиль заведен\n"
          ]
        }
      ],
      "source": [
        "MyCar.on()"
      ]
    },
    {
      "cell_type": "code",
      "execution_count": 11,
      "id": "5f2bc25e",
      "metadata": {
        "colab": {
          "base_uri": "https://localhost:8080/"
        },
        "id": "5f2bc25e",
        "outputId": "b19f705e-807e-4129-c94c-3e091dbedddd"
      },
      "outputs": [
        {
          "output_type": "stream",
          "name": "stdout",
          "text": [
            "Автомобиль заглушен\n"
          ]
        }
      ],
      "source": [
        "MyCar.off()"
      ]
    },
    {
      "cell_type": "code",
      "execution_count": 12,
      "id": "af131560",
      "metadata": {
        "colab": {
          "base_uri": "https://localhost:8080/"
        },
        "id": "af131560",
        "outputId": "7a5d2547-ac98-4a7e-9912-d6c06f7c7da3"
      },
      "outputs": [
        {
          "output_type": "stream",
          "name": "stdout",
          "text": [
            "Синий Порш 2024\n"
          ]
        }
      ],
      "source": [
        "MyCar.setYear(2024)\n",
        "print(MyCar)"
      ]
    },
    {
      "cell_type": "code",
      "execution_count": 13,
      "id": "cfd85edc",
      "metadata": {
        "colab": {
          "base_uri": "https://localhost:8080/"
        },
        "id": "cfd85edc",
        "outputId": "b564e40b-c908-45b0-b8d4-635ef64fed0d"
      },
      "outputs": [
        {
          "output_type": "stream",
          "name": "stdout",
          "text": [
            "Синий Шкода 2024\n"
          ]
        }
      ],
      "source": [
        "MyCar.setType('Шкода')\n",
        "print(MyCar)"
      ]
    },
    {
      "cell_type": "code",
      "execution_count": 14,
      "id": "ee62f67e",
      "metadata": {
        "colab": {
          "base_uri": "https://localhost:8080/"
        },
        "id": "ee62f67e",
        "outputId": "5223f8bd-d180-4d40-82ab-5fd7ea2f0dcd"
      },
      "outputs": [
        {
          "output_type": "stream",
          "name": "stdout",
          "text": [
            "Голубой Шкода 2024\n"
          ]
        }
      ],
      "source": [
        "MyCar.setColor('Голубой')\n",
        "\n",
        "print(MyCar)"
      ]
    },
    {
      "cell_type": "markdown",
      "id": "15351aee",
      "metadata": {
        "id": "15351aee"
      },
      "source": [
        "### Задание 3"
      ]
    },
    {
      "cell_type": "markdown",
      "id": "58262e10",
      "metadata": {
        "id": "58262e10"
      },
      "source": [
        "#### Допишите функцию Nutrition."
      ]
    },
    {
      "cell_type": "code",
      "execution_count": 16,
      "id": "e5602a35",
      "metadata": {
        "id": "e5602a35"
      },
      "outputs": [],
      "source": [
        "class NutritionInfo:\n",
        "    def __init__(self, proteins, carbs, fats):\n",
        "        self.proteins = proteins\n",
        "        self.carbs = carbs\n",
        "        self.fats = fats\n",
        "\n",
        "    def __add__(self, other):\n",
        "        return NutritionInfo(self.proteins + other.proteins, self.carbs + other.carbs, self.fats + other.fats)\n",
        "\n",
        "    def __mul__(self, other):\n",
        "        return NutritionInfo(self.proteins * other, self.carbs * other, self.fats * other)\n",
        "\n",
        "    def __str__(self):\n",
        "        return f\"Nutrition p {self.proteins}, c {self.carbs}, f {self.fats}\"\n",
        "\n",
        "    def energy(self):\n",
        "        return int(self.fats * 9 + (self.carbs + self.proteins) * 4.2)"
      ]
    },
    {
      "cell_type": "code",
      "execution_count": 17,
      "id": "ca8fedfe",
      "metadata": {
        "colab": {
          "base_uri": "https://localhost:8080/"
        },
        "id": "ca8fedfe",
        "outputId": "8e41e54a-beaf-41d3-d0b1-964e957ec2ea"
      },
      "outputs": [
        {
          "output_type": "stream",
          "name": "stdout",
          "text": [
            "Nutrition p 2, c 4, f 6\n"
          ]
        }
      ],
      "source": [
        "egg = NutritionInfo(1, 2, 3)\n",
        "pastila = NutritionInfo(1, 2, 3)\n",
        "tvorog_9 = NutritionInfo(18, 3, 9)\n",
        "apple = NutritionInfo(0, 25, 0)\n",
        "\n",
        "print(egg + pastila)"
      ]
    },
    {
      "cell_type": "code",
      "execution_count": 18,
      "id": "b0a29a8f",
      "metadata": {
        "id": "b0a29a8f"
      },
      "outputs": [],
      "source": [
        "breakfast = apple + tvorog_9 + pastila"
      ]
    },
    {
      "cell_type": "code",
      "execution_count": 19,
      "id": "89e0129a",
      "metadata": {
        "colab": {
          "base_uri": "https://localhost:8080/"
        },
        "id": "89e0129a",
        "outputId": "ef297ac4-d297-4ae0-ab2a-0a02af1fd1ce"
      },
      "outputs": [
        {
          "output_type": "execute_result",
          "data": {
            "text/plain": [
              "313"
            ]
          },
          "metadata": {},
          "execution_count": 19
        }
      ],
      "source": [
        "breakfast.energy()"
      ]
    },
    {
      "cell_type": "code",
      "execution_count": 20,
      "id": "b3c46b11",
      "metadata": {
        "id": "b3c46b11"
      },
      "outputs": [],
      "source": [
        "breakfast = apple * 3"
      ]
    },
    {
      "cell_type": "code",
      "execution_count": 21,
      "id": "bfa3dd99",
      "metadata": {
        "colab": {
          "base_uri": "https://localhost:8080/"
        },
        "id": "bfa3dd99",
        "outputId": "1c0a34c0-4252-4d5f-b023-46b73c2de720"
      },
      "outputs": [
        {
          "output_type": "execute_result",
          "data": {
            "text/plain": [
              "315"
            ]
          },
          "metadata": {},
          "execution_count": 21
        }
      ],
      "source": [
        "breakfast.energy()"
      ]
    }
  ],
  "metadata": {
    "kernelspec": {
      "display_name": "Python 3 (ipykernel)",
      "language": "python",
      "name": "python3"
    },
    "language_info": {
      "codemirror_mode": {
        "name": "ipython",
        "version": 3
      },
      "file_extension": ".py",
      "mimetype": "text/x-python",
      "name": "python",
      "nbconvert_exporter": "python",
      "pygments_lexer": "ipython3",
      "version": "3.9.13"
    },
    "colab": {
      "provenance": []
    }
  },
  "nbformat": 4,
  "nbformat_minor": 5
}