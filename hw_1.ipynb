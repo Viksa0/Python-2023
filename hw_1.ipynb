{
  "cells": [
    {
      "cell_type": "markdown",
      "id": "d25b4b54",
      "metadata": {
        "id": "d25b4b54"
      },
      "source": [
        "## ДЗ 1"
      ]
    },
    {
      "cell_type": "markdown",
      "id": "af711d1c",
      "metadata": {
        "id": "af711d1c"
      },
      "source": [
        "### Задание 1"
      ]
    },
    {
      "cell_type": "markdown",
      "id": "5a84d36a",
      "metadata": {
        "id": "5a84d36a"
      },
      "source": [
        "#### Сделайте так, чтобы число секунд отображалось в виде дни:часы:минуты:секунды."
      ]
    },
    {
      "cell_type": "code",
      "execution_count": null,
      "id": "ee4e0195",
      "metadata": {
        "id": "ee4e0195"
      },
      "outputs": [],
      "source": [
        "seconds = 10000"
      ]
    },
    {
      "cell_type": "code",
      "execution_count": null,
      "id": "4a5a1ad5",
      "metadata": {
        "id": "4a5a1ad5"
      },
      "outputs": [],
      "source": [
        "days = seconds // (60 * 60 * 24)\n",
        "seconds %= 24 * 60 * 60\n",
        "hours = seconds // (60 * 60)\n",
        "seconds %= 60 * 60\n",
        "minutes = seconds // 60\n",
        "seconds %= 60"
      ]
    },
    {
      "cell_type": "code",
      "execution_count": null,
      "id": "903d569d",
      "metadata": {
        "colab": {
          "base_uri": "https://localhost:8080/"
        },
        "id": "903d569d",
        "outputId": "09ed8194-3953-46fa-f891-1c7c372faf3b"
      },
      "outputs": [
        {
          "output_type": "stream",
          "name": "stdout",
          "text": [
            "0:2:46:40\n"
          ]
        }
      ],
      "source": [
        "print(days, hours, minutes, seconds, sep = \":\")"
      ]
    },
    {
      "cell_type": "markdown",
      "id": "d919fc48",
      "metadata": {
        "id": "d919fc48"
      },
      "source": [
        "### Задание 2"
      ]
    },
    {
      "cell_type": "markdown",
      "id": "79ab9755",
      "metadata": {
        "id": "79ab9755"
      },
      "source": [
        "#### Напишите калькулятор который запрашивает на входе две переменные и знак, и в соответствии с знаком ( + - * / ) выводит результат"
      ]
    },
    {
      "cell_type": "code",
      "execution_count": null,
      "id": "d0b27c47",
      "metadata": {
        "colab": {
          "base_uri": "https://localhost:8080/"
        },
        "id": "d0b27c47",
        "outputId": "0b287e08-bc1d-4d31-8a01-45da250fb331"
      },
      "outputs": [
        {
          "output_type": "stream",
          "name": "stdout",
          "text": [
            "Введите число: 15\n",
            "Введите число: 28\n",
            "Введите оператор: +\n",
            "Ответ:  43.0\n"
          ]
        }
      ],
      "source": [
        "a = float(input(\"Введите число: \"))\n",
        "b = float(input(\"Введите число: \"))\n",
        "operator = input(\"Введите оператор: \")\n",
        "\n",
        "if operator == \"+\":\n",
        "    print(\"Ответ: \", a + b)\n",
        "elif operator == \"-\":\n",
        "    print(\"Ответ: \", a - b)\n",
        "elif operator == \"*\":\n",
        "    print(\"Ответ: \", a * b)\n",
        "elif operator == \"/\":\n",
        "    print(\"Ответ: \", a / b)\n",
        "else:\n",
        "    print(\"Такого оператора нет\")"
      ]
    },
    {
      "cell_type": "markdown",
      "id": "15351aee",
      "metadata": {
        "id": "15351aee"
      },
      "source": [
        "### Задание 3"
      ]
    },
    {
      "cell_type": "markdown",
      "id": "58262e10",
      "metadata": {
        "id": "58262e10"
      },
      "source": [
        "#### Считайте 2 строки и выведите их на печать, разделив символом $.\n",
        "Попробуйте решить эту задачу как минимум 2 способами:\n",
        "\n",
        "1)с помощью конкатенации строк\n",
        "\n",
        "2)с помощью указания разделителя в параметре sep метода print"
      ]
    },
    {
      "cell_type": "code",
      "execution_count": null,
      "id": "e5602a35",
      "metadata": {
        "colab": {
          "base_uri": "https://localhost:8080/"
        },
        "id": "e5602a35",
        "outputId": "af7811b8-3b31-411f-d946-bffa1b1dcf07"
      },
      "outputs": [
        {
          "output_type": "stream",
          "name": "stdout",
          "text": [
            "M\n",
            "M's\n",
            "M$M's\n",
            "M$M's\n"
          ]
        }
      ],
      "source": [
        "s1 = input()\n",
        "s2 = input()\n",
        "\n",
        "print(s1 + \"$\" + s2)\n",
        "print(s1, s2, sep = \"$\")"
      ]
    },
    {
      "cell_type": "markdown",
      "id": "6eb71026",
      "metadata": {
        "id": "6eb71026"
      },
      "source": [
        "### Задание 4"
      ]
    },
    {
      "cell_type": "markdown",
      "id": "e55013e9",
      "metadata": {
        "id": "e55013e9"
      },
      "source": [
        "#### Напишите поздравление с Днем рождения, где программа считает имя и возраст и выведет поздравление столько раз, сколько лет именнинику"
      ]
    },
    {
      "cell_type": "code",
      "execution_count": null,
      "id": "8c085713",
      "metadata": {
        "colab": {
          "base_uri": "https://localhost:8080/"
        },
        "id": "8c085713",
        "outputId": "7ac29f6b-7e1e-47f7-a5fb-818d956322cc"
      },
      "outputs": [
        {
          "output_type": "stream",
          "name": "stdout",
          "text": [
            "Имя: Вика\n",
            "Возраст: 17\n",
            "С Днем Рождения, Вика!\n",
            "С Днем Рождения, Вика!\n",
            "С Днем Рождения, Вика!\n",
            "С Днем Рождения, Вика!\n",
            "С Днем Рождения, Вика!\n",
            "С Днем Рождения, Вика!\n",
            "С Днем Рождения, Вика!\n",
            "С Днем Рождения, Вика!\n",
            "С Днем Рождения, Вика!\n",
            "С Днем Рождения, Вика!\n",
            "С Днем Рождения, Вика!\n",
            "С Днем Рождения, Вика!\n",
            "С Днем Рождения, Вика!\n",
            "С Днем Рождения, Вика!\n",
            "С Днем Рождения, Вика!\n",
            "С Днем Рождения, Вика!\n",
            "С Днем Рождения, Вика!\n",
            "\n"
          ]
        }
      ],
      "source": [
        "name = input('Имя: ')\n",
        "age = int(input('Возраст: '))\n",
        "\n",
        "print(f\"С Днем Рождения, {name}!\\n\"*age)"
      ]
    }
  ],
  "metadata": {
    "kernelspec": {
      "display_name": "Python 3 (ipykernel)",
      "language": "python",
      "name": "python3"
    },
    "language_info": {
      "codemirror_mode": {
        "name": "ipython",
        "version": 3
      },
      "file_extension": ".py",
      "mimetype": "text/x-python",
      "name": "python",
      "nbconvert_exporter": "python",
      "pygments_lexer": "ipython3",
      "version": "3.9.13"
    },
    "colab": {
      "provenance": []
    }
  },
  "nbformat": 4,
  "nbformat_minor": 5
}