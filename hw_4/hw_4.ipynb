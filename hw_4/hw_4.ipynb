{
  "cells": [
    {
      "cell_type": "markdown",
      "id": "d25b4b54",
      "metadata": {
        "id": "d25b4b54"
      },
      "source": [
        "## ДЗ 4"
      ]
    },
    {
      "cell_type": "markdown",
      "id": "af711d1c",
      "metadata": {
        "id": "af711d1c"
      },
      "source": [
        "### Задание 1"
      ]
    },
    {
      "cell_type": "markdown",
      "id": "5a84d36a",
      "metadata": {
        "id": "5a84d36a"
      },
      "source": [
        "#### Средний бал и список отстающих учеников"
      ]
    },
    {
      "cell_type": "code",
      "execution_count": 3,
      "id": "ee4e0195",
      "metadata": {
        "id": "ee4e0195"
      },
      "outputs": [],
      "source": [
        "with open(\"task-1.txt\", 'r', encoding = \"utf-8\") as file:\n",
        "    texts = file.read().split('\\n')"
      ]
    },
    {
      "cell_type": "code",
      "execution_count": 4,
      "id": "4a5a1ad5",
      "metadata": {
        "id": "4a5a1ad5"
      },
      "outputs": [],
      "source": [
        "s = 0\n",
        "ots = []\n",
        "\n",
        "for l in texts:\n",
        "    s += int(l[-1])\n",
        "    if int(l[-1]) < 3:\n",
        "        ots.append(l[0:len(l) - 2])"
      ]
    },
    {
      "cell_type": "code",
      "execution_count": 5,
      "id": "903d569d",
      "metadata": {
        "colab": {
          "base_uri": "https://localhost:8080/"
        },
        "id": "903d569d",
        "outputId": "9f19dfe7-f03b-47ac-887d-773cda9bb13e"
      },
      "outputs": [
        {
          "output_type": "stream",
          "name": "stdout",
          "text": [
            "Средный балл:3.18\n",
            "Список отстающих: ['Дмитриев Н.', 'Котов Д.', 'Бирюкова Н.', 'Лемонов Ю.']\n"
          ]
        }
      ],
      "source": [
        "print(f\"Средный балл:{round(s / len(texts), 2)}\")\n",
        "print(f\"Список отстающих: {ots}\")"
      ]
    },
    {
      "cell_type": "markdown",
      "id": "d919fc48",
      "metadata": {
        "id": "d919fc48"
      },
      "source": [
        "### Задание 2"
      ]
    },
    {
      "cell_type": "markdown",
      "id": "79ab9755",
      "metadata": {
        "id": "79ab9755"
      },
      "source": [
        "#### Посчитать количество определенных слов в файле"
      ]
    },
    {
      "cell_type": "code",
      "execution_count": 6,
      "id": "d0b27c47",
      "metadata": {
        "id": "d0b27c47"
      },
      "outputs": [],
      "source": [
        "with open(\"task-2.txt\", 'r', encoding = \"utf-8\") as file:\n",
        "    texts = file.read()"
      ]
    },
    {
      "cell_type": "code",
      "execution_count": 7,
      "id": "ea75c194",
      "metadata": {
        "id": "ea75c194"
      },
      "outputs": [],
      "source": [
        "lect = texts.count('лекц.')\n",
        "pract = texts.count('практ.')\n",
        "lab = texts.count('лаб.')"
      ]
    },
    {
      "cell_type": "code",
      "execution_count": 8,
      "id": "de6714db",
      "metadata": {
        "colab": {
          "base_uri": "https://localhost:8080/"
        },
        "id": "de6714db",
        "outputId": "53a7e84b-3e19-409a-f795-cffb77165506"
      },
      "outputs": [
        {
          "output_type": "stream",
          "name": "stdout",
          "text": [
            "Лекций: 2\n",
            "Практических: 2\n",
            "Лабораторных: 1\n"
          ]
        }
      ],
      "source": [
        "print('Лекций:', lect)\n",
        "print('Практических:', pract)\n",
        "print('Лабораторных:', lab)"
      ]
    },
    {
      "cell_type": "markdown",
      "id": "15351aee",
      "metadata": {
        "id": "15351aee"
      },
      "source": [
        "### Задание 3"
      ]
    },
    {
      "cell_type": "markdown",
      "id": "58262e10",
      "metadata": {
        "id": "58262e10"
      },
      "source": [
        "#### Выведите список файлов в указанной директории. например где у вас лежат ваши тетради"
      ]
    },
    {
      "cell_type": "code",
      "execution_count": 9,
      "id": "e5602a35",
      "metadata": {
        "colab": {
          "base_uri": "https://localhost:8080/",
          "height": 35
        },
        "id": "e5602a35",
        "outputId": "0615ff23-59c6-4d5b-b233-ab4e782af794"
      },
      "outputs": [
        {
          "output_type": "execute_result",
          "data": {
            "text/plain": [
              "'/content'"
            ],
            "application/vnd.google.colaboratory.intrinsic+json": {
              "type": "string"
            }
          },
          "metadata": {},
          "execution_count": 9
        }
      ],
      "source": [
        "pwd"
      ]
    },
    {
      "cell_type": "code",
      "execution_count": 10,
      "id": "de0269e9",
      "metadata": {
        "colab": {
          "base_uri": "https://localhost:8080/"
        },
        "id": "de0269e9",
        "outputId": "c33d8f41-5a82-443e-a968-8984244b6f18"
      },
      "outputs": [
        {
          "output_type": "stream",
          "name": "stdout",
          "text": [
            "\u001b[0m\u001b[01;34msample_data\u001b[0m/  task-1.txt  task-2.txt  task-4.txt\n"
          ]
        }
      ],
      "source": [
        "ls"
      ]
    },
    {
      "cell_type": "markdown",
      "id": "6eb71026",
      "metadata": {
        "id": "6eb71026"
      },
      "source": [
        "### Задание 5"
      ]
    },
    {
      "cell_type": "markdown",
      "id": "e55013e9",
      "metadata": {
        "id": "e55013e9"
      },
      "source": [
        "#### Напишите программу, которая принимает текст и выводит два слова: наиболее часто встречающееся и самое длинное."
      ]
    },
    {
      "cell_type": "code",
      "execution_count": 11,
      "id": "8c085713",
      "metadata": {
        "id": "8c085713"
      },
      "outputs": [],
      "source": [
        "with open(\"task-4.txt\", 'r', encoding = \"utf-8\") as file:\n",
        "    texts = file.read()"
      ]
    },
    {
      "cell_type": "code",
      "execution_count": 12,
      "id": "2feb11de",
      "metadata": {
        "id": "2feb11de"
      },
      "outputs": [],
      "source": [
        "texts = texts.replace('.', '').replace('!', '').replace(',', '').replace(' — ', ' ').replace('-', ' ').replace('\\n', ' ').lower().split(' ')"
      ]
    },
    {
      "cell_type": "code",
      "execution_count": 13,
      "id": "bc8c177c",
      "metadata": {
        "id": "bc8c177c"
      },
      "outputs": [],
      "source": [
        "max = ''\n",
        "count = {}\n",
        "\n",
        "for w in texts:\n",
        "    if len(w) > len(max):\n",
        "        max = w\n",
        "    try:\n",
        "        count[w] += 1\n",
        "    except:\n",
        "        count[w] = 1\n",
        "\n",
        "count = sorted(count.items(), key=lambda item: item[1], reverse=True)"
      ]
    },
    {
      "cell_type": "code",
      "execution_count": 15,
      "id": "63cf91b9",
      "metadata": {
        "colab": {
          "base_uri": "https://localhost:8080/"
        },
        "id": "63cf91b9",
        "outputId": "a77dd42d-3f09-4aa1-e6db-4d95544d53de"
      },
      "outputs": [
        {
          "output_type": "stream",
          "name": "stdout",
          "text": [
            "Самое часто встречающееся слово в тексте 'и' встречаeтся 8 раз\n",
            "Самое длинное слово в тексте храброславленный, длина 16\n"
          ]
        }
      ],
      "source": [
        "print(f\"Самое часто встречающееся слово в тексте '{count[0][0]}' встречаeтся {count[0][1]} раз\")\n",
        "print(f\"Самое длинное слово в тексте {max}, длина {len(max)}\")"
      ]
    }
  ],
  "metadata": {
    "kernelspec": {
      "display_name": "Python 3 (ipykernel)",
      "language": "python",
      "name": "python3"
    },
    "language_info": {
      "codemirror_mode": {
        "name": "ipython",
        "version": 3
      },
      "file_extension": ".py",
      "mimetype": "text/x-python",
      "name": "python",
      "nbconvert_exporter": "python",
      "pygments_lexer": "ipython3",
      "version": "3.9.13"
    },
    "colab": {
      "provenance": []
    }
  },
  "nbformat": 4,
  "nbformat_minor": 5
}