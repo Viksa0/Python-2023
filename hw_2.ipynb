{
  "cells": [
    {
      "cell_type": "markdown",
      "id": "7fb23cbd",
      "metadata": {
        "id": "7fb23cbd"
      },
      "source": [
        "## ДЗ 2"
      ]
    },
    {
      "cell_type": "markdown",
      "id": "3f22d31f",
      "metadata": {
        "id": "3f22d31f"
      },
      "source": [
        "### Задание 1"
      ]
    },
    {
      "cell_type": "markdown",
      "id": "567b670f",
      "metadata": {
        "id": "567b670f"
      },
      "source": [
        "#### Какой месяц"
      ]
    },
    {
      "cell_type": "code",
      "execution_count": 7,
      "id": "d48be332",
      "metadata": {
        "colab": {
          "base_uri": "https://localhost:8080/"
        },
        "id": "d48be332",
        "outputId": "8f89f4e0-370c-4630-afb5-ad4c661bc5e5"
      },
      "outputs": [
        {
          "output_type": "stream",
          "name": "stdout",
          "text": [
            "Введите номер месяца 5\n",
            "май\n"
          ]
        }
      ],
      "source": [
        "month = int(input(\"Введите номер месяца \"))\n",
        "months = [\"январь\", \"февраль\", \"март\", \"апрель\", \"май\", \"июнь\", \"июль\", \"август\", \"сентябрь\", \"октябрь\", \"ноябрь\", \"декабрь\"]\n",
        "\n",
        "if (month > 12 or month <= 0):\n",
        "    print(\"Несуществующий месяц\")\n",
        "\n",
        "else:\n",
        "    print(months[month - 1])"
      ]
    },
    {
      "cell_type": "markdown",
      "id": "8c58056a",
      "metadata": {
        "id": "8c58056a"
      },
      "source": [
        "### Задание 2"
      ]
    },
    {
      "cell_type": "markdown",
      "id": "c0f3dcaa",
      "metadata": {
        "id": "c0f3dcaa"
      },
      "source": [
        "#### Наибольший общий делитель"
      ]
    },
    {
      "cell_type": "code",
      "execution_count": 6,
      "id": "e2ed1496",
      "metadata": {
        "colab": {
          "base_uri": "https://localhost:8080/"
        },
        "id": "e2ed1496",
        "outputId": "d6a9d0f2-63c9-4dd8-bc64-bccd2169a3ce"
      },
      "outputs": [
        {
          "output_type": "stream",
          "name": "stdout",
          "text": [
            "Введите два числа \n",
            "17\n",
            "98\n",
            "НОД(17, 98) = 1\n"
          ]
        }
      ],
      "source": [
        "print(\"Введите два числа \")\n",
        "\n",
        "a = int(input())\n",
        "b = int(input())\n",
        "s = f\"НОД({a}, {b})\"\n",
        "\n",
        "while (a != 0 and b != 0):\n",
        "    if a > b:\n",
        "        a = a % b\n",
        "    else:\n",
        "        b = b % a\n",
        "\n",
        "print(f\"{s} = {a + b}\")\n",
        ""
      ]
    },
    {
      "cell_type": "markdown",
      "id": "213c5dc7",
      "metadata": {
        "id": "213c5dc7"
      },
      "source": [
        "### Задание 3"
      ]
    },
    {
      "cell_type": "markdown",
      "id": "84c1625b",
      "metadata": {
        "id": "84c1625b"
      },
      "source": [
        "#### Проверка расширения файла"
      ]
    },
    {
      "cell_type": "code",
      "execution_count": null,
      "id": "0848539d",
      "metadata": {
        "id": "0848539d"
      },
      "outputs": [],
      "source": [
        "file='Моя диссертац.gif'\n",
        "extensions = ['png', 'jpg', 'jpeg', 'gif', 'svg']"
      ]
    },
    {
      "cell_type": "code",
      "execution_count": null,
      "id": "8c2c7d2d",
      "metadata": {
        "id": "8c2c7d2d",
        "outputId": "20ef3aef-b915-443e-d874-2895c0ec8d2a"
      },
      "outputs": [
        {
          "name": "stdout",
          "output_type": "stream",
          "text": [
            "gif - допустимое разрешение\n"
          ]
        }
      ],
      "source": [
        "s = file.split('.')\n",
        "\n",
        "if s[-1] in extensions:\n",
        "    print(f\"{s[-1]} - допустимое разрешение\")\n",
        "\n",
        "else:\n",
        "    print(f\"{s[-1]} не поддерживается. Выберите другое расширение!\")"
      ]
    },
    {
      "cell_type": "markdown",
      "id": "98a1392d",
      "metadata": {
        "id": "98a1392d"
      },
      "source": [
        "### Задание 4"
      ]
    },
    {
      "cell_type": "markdown",
      "id": "9b2e265e",
      "metadata": {
        "id": "9b2e265e"
      },
      "source": [
        "#### Високосный год\n",
        "год, номер которого кратен 400, — високосный;\n",
        "остальные годы, номер которых кратен 100, — невисокосные;\n",
        "остальные годы, номер которых кратен 4, — високосные."
      ]
    },
    {
      "cell_type": "code",
      "execution_count": 5,
      "id": "d74bb674",
      "metadata": {
        "colab": {
          "base_uri": "https://localhost:8080/"
        },
        "id": "d74bb674",
        "outputId": "fadd8876-7b55-4bed-a00e-f27894e36c7b"
      },
      "outputs": [
        {
          "output_type": "stream",
          "name": "stdout",
          "text": [
            "Введите год: 2024\n",
            "2024 - високосный\n"
          ]
        }
      ],
      "source": [
        "year=int(input(\"Введите год: \"))\n",
        "\n",
        "if (year % 400 == 0 or year % 4 == 0):\n",
        "    print(f\"{year} - високосный\")\n",
        "\n",
        "else:\n",
        "    print(f\"{year} - невисокосный год\")"
      ]
    }
  ],
  "metadata": {
    "kernelspec": {
      "display_name": "Python 3 (ipykernel)",
      "language": "python",
      "name": "python3"
    },
    "language_info": {
      "codemirror_mode": {
        "name": "ipython",
        "version": 3
      },
      "file_extension": ".py",
      "mimetype": "text/x-python",
      "name": "python",
      "nbconvert_exporter": "python",
      "pygments_lexer": "ipython3",
      "version": "3.9.13"
    },
    "colab": {
      "provenance": []
    }
  },
  "nbformat": 4,
  "nbformat_minor": 5
}