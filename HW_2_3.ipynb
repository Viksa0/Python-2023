{
  "nbformat": 4,
  "nbformat_minor": 0,
  "metadata": {
    "colab": {
      "provenance": []
    },
    "kernelspec": {
      "name": "python3",
      "display_name": "Python 3"
    },
    "language_info": {
      "name": "python"
    }
  },
  "cells": [
    {
      "cell_type": "markdown",
      "source": [
        "Используя RandomForestClassifier и еще 2 метода МО предсказать будущий ABC класс на основе любых фичей\n",
        "\n",
        "Найти причину/фактор низкой маржинальности"
      ],
      "metadata": {
        "id": "vrjZAAnKRbrb"
      }
    },
    {
      "cell_type": "code",
      "source": [
        "import pandas as pd\n",
        "import numpy as np\n",
        "from sklearn.model_selection import train_test_split\n",
        "from sklearn.preprocessing import StandardScaler\n",
        "from sklearn.ensemble import RandomForestClassifier\n",
        "from sklearn.neighbors import KNeighborsClassifier\n",
        "from sklearn import svm\n",
        "import matplotlib.pyplot as plt\n",
        "import seaborn as sns\n",
        "\n",
        "\n",
        "from sklearn.metrics import accuracy_score, confusion_matrix, precision_score, recall_score, roc_auc_score, roc_curve, f1_score\n",
        "df = pd.read_excel('/content/DataSet_w_NA (1).xlsx', sheet_name=\"Испорченные факты\").dropna()\n",
        "table = pd.pivot_table(df, index='Факты.Товар ID', values = ['Продажи, шт', 'Продажи, руб', 'Маржинальная прибыль',\n",
        "                                                             'Повторение заказа', 'Повторение товара'],\n",
        "                       aggfunc={'Продажи, шт': [np.median, np.sum],\n",
        "                              'Продажи, руб': [np.median, np.sum],\n",
        "                              'Повторение заказа': np.sum,\n",
        "                              'Маржинальная прибыль': np.sum})\n",
        "newname=table.columns.map('_'.join)\n",
        "table.columns=newname\n",
        "table=table.reset_index()\n",
        "total_sale=table['Продажи, руб_sum'].sum()\n",
        "table['Доля']=table['Продажи, руб_sum']/total_sale * 100\n",
        "table = table.sort_values(by=('Продажи, руб_sum'), ascending=False)\n",
        "table=table.assign(sum_d=table['Доля'].cumsum())\n",
        "table.loc[(table['sum_d'] <= 80), 'ABC'] = 'A'\n",
        "table.loc[(table['sum_d'] > 80) & (table['sum_d'] <= 95), 'ABC'] = 'B'\n",
        "table.loc[(table['sum_d'] > 95), 'ABC'] = 'C'"
      ],
      "metadata": {
        "id": "wma0D-ruReU6"
      },
      "execution_count": 3,
      "outputs": []
    }
  ]
}