{
  "cells": [
    {
      "cell_type": "markdown",
      "id": "7fb23cbd",
      "metadata": {
        "id": "7fb23cbd"
      },
      "source": [
        "## ДЗ 3"
      ]
    },
    {
      "cell_type": "markdown",
      "id": "3f22d31f",
      "metadata": {
        "id": "3f22d31f"
      },
      "source": [
        "### Задание 1"
      ]
    },
    {
      "cell_type": "markdown",
      "id": "567b670f",
      "metadata": {
        "id": "567b670f"
      },
      "source": [
        "#### Напишите функцию, извлекающую корень n-й степени из числа x. По умолчанию def будет извлекать квадратный корень:"
      ]
    },
    {
      "cell_type": "code",
      "execution_count": 1,
      "id": "d48be332",
      "metadata": {
        "colab": {
          "base_uri": "https://localhost:8080/"
        },
        "id": "d48be332",
        "outputId": "aeb525e5-f0a9-4630-8b7d-2466ddc2f1e3"
      },
      "outputs": [
        {
          "output_type": "stream",
          "name": "stdout",
          "text": [
            "Введите число 75\n",
            "Введите степень N 5\n",
            "Ответ: 2.371\n"
          ]
        }
      ],
      "source": [
        "x = float(input(\"Введите число \"))\n",
        "deg = float(input(\"Введите степень N \"))\n",
        "\n",
        "def sqrt(x, deg = 2):\n",
        "    return x ** (1/deg);\n",
        "\n",
        "a = sqrt(x, deg)\n",
        "print(f\"Ответ: {round(a, 3)}\")"
      ]
    },
    {
      "cell_type": "markdown",
      "id": "8c58056a",
      "metadata": {
        "id": "8c58056a"
      },
      "source": [
        "### Задание 2"
      ]
    },
    {
      "cell_type": "markdown",
      "id": "c0f3dcaa",
      "metadata": {
        "id": "c0f3dcaa"
      },
      "source": [
        "#### Перепишите ваш код для проверки расширения из прошлого ДЗ в функцию которая принимает список расширений и  имя файла"
      ]
    },
    {
      "cell_type": "code",
      "execution_count": null,
      "id": "e2ed1496",
      "metadata": {
        "id": "e2ed1496",
        "outputId": "920dda71-7e3c-41f9-b30c-8d3a55e28b4a"
      },
      "outputs": [
        {
          "name": "stdout",
          "output_type": "stream",
          "text": [
            "Название файла: Моя диссертац.gif\n",
            "gif - допустимое разрешение\n"
          ]
        }
      ],
      "source": [
        "file=input(\"Название файла: \")\n",
        "\n",
        "def extcheck(name, extensions = ['png', 'jpg', 'jpeg', 'gif', 'svg']):\n",
        "    s = file.split('.')\n",
        "    if s[-1] in extensions:\n",
        "        print(f\"{s[-1]} - допустимое разрешение\")\n",
        "    else:\n",
        "        print(f\"{s[-1]} не поддерживается. Выберите другое расширение!\")\n",
        "\n",
        "extcheck(file)"
      ]
    },
    {
      "cell_type": "markdown",
      "id": "213c5dc7",
      "metadata": {
        "id": "213c5dc7"
      },
      "source": [
        "### Задание 3"
      ]
    },
    {
      "cell_type": "markdown",
      "id": "84c1625b",
      "metadata": {
        "id": "84c1625b"
      },
      "source": [
        "#### Слейте воедино три словаря"
      ]
    },
    {
      "cell_type": "code",
      "execution_count": null,
      "id": "0848539d",
      "metadata": {
        "id": "0848539d"
      },
      "outputs": [],
      "source": [
        "dict_a = {1:10, 2:20}\n",
        "dict_b = {3:30, 4:40}\n",
        "dict_c = {5:50, 6:60}"
      ]
    },
    {
      "cell_type": "code",
      "execution_count": null,
      "id": "56cb3ac2",
      "metadata": {
        "id": "56cb3ac2",
        "outputId": "264d6cfb-d329-435c-8395-ccbe91e0e6ff"
      },
      "outputs": [
        {
          "name": "stdout",
          "output_type": "stream",
          "text": [
            "{1: 10, 2: 20, 3: 30, 4: 40, 5: 50, 6: 60}\n"
          ]
        }
      ],
      "source": [
        "merge = dict()\n",
        "merge.update(dict_a)\n",
        "merge.update(dict_b)\n",
        "merge.update(dict_c)\n",
        "print(merge)"
      ]
    },
    {
      "cell_type": "markdown",
      "id": "98a1392d",
      "metadata": {
        "id": "98a1392d"
      },
      "source": [
        "### Задание 4"
      ]
    },
    {
      "cell_type": "markdown",
      "id": "9b2e265e",
      "metadata": {
        "id": "9b2e265e"
      },
      "source": [
        "#### Напишите функцию которая будет складывать цифры внутри числа"
      ]
    },
    {
      "cell_type": "code",
      "execution_count": 2,
      "id": "5c238196",
      "metadata": {
        "colab": {
          "base_uri": "https://localhost:8080/"
        },
        "id": "5c238196",
        "outputId": "3a18c0bb-a387-4d2d-a6a9-502ca11541cf"
      },
      "outputs": [
        {
          "output_type": "stream",
          "name": "stdout",
          "text": [
            "Введите число 56798342\n",
            "44\n"
          ]
        }
      ],
      "source": [
        "a = int(input(\"Введите число \"))\n",
        "\n",
        "def s(n):\n",
        "    s = 0\n",
        "    while n > 0:\n",
        "        s += n % 10\n",
        "        n = n // 10\n",
        "    return s\n",
        "\n",
        "\n",
        "print(s(a))"
      ]
    },
    {
      "cell_type": "markdown",
      "id": "e8daf9be",
      "metadata": {
        "id": "e8daf9be"
      },
      "source": [
        "### Задание 5"
      ]
    },
    {
      "cell_type": "markdown",
      "id": "2b132049",
      "metadata": {
        "id": "2b132049"
      },
      "source": [
        "#### Нужно проверить, все ли числа в последовательности уникальны."
      ]
    },
    {
      "cell_type": "code",
      "execution_count": 3,
      "id": "09f29e6e",
      "metadata": {
        "colab": {
          "base_uri": "https://localhost:8080/"
        },
        "id": "09f29e6e",
        "outputId": "4747af39-3129-4ddc-8db6-a900213d5e3f"
      },
      "outputs": [
        {
          "output_type": "stream",
          "name": "stdout",
          "text": [
            "Все числа в последовательности - уникальны\n"
          ]
        }
      ],
      "source": [
        "numbers=[1,4,5]\n",
        "set_numbers = set(numbers)\n",
        "\n",
        "if len(numbers) != len(set_numbers):\n",
        "    print(\"Не все числа в последовательности уникальны\")\n",
        "else:\n",
        "    print(\"Все числа в последовательности - уникальны\")"
      ]
    },
    {
      "cell_type": "markdown",
      "id": "08c7b0e5",
      "metadata": {
        "id": "08c7b0e5"
      },
      "source": [
        "### Задание 6"
      ]
    },
    {
      "cell_type": "markdown",
      "id": "c6dee174",
      "metadata": {
        "id": "c6dee174"
      },
      "source": [
        "#### Создать функцию, которая просто печатает все элементы заданного ей списка:"
      ]
    },
    {
      "cell_type": "code",
      "execution_count": null,
      "id": "08e5d72f",
      "metadata": {
        "id": "08e5d72f",
        "outputId": "3634d44b-a9c4-4fac-e458-20fb0a39ad3e"
      },
      "outputs": [
        {
          "name": "stdout",
          "output_type": "stream",
          "text": [
            "0  :  я\n",
            "1  :  не\n",
            "2  :  в\n",
            "3  :  отпуск\n"
          ]
        }
      ],
      "source": [
        "def print_list(my_list):\n",
        "    for i, j in enumerate(my_list):\n",
        "        print(i, \" : \", j)\n",
        "\n",
        "print_list([\"я\", \"не\", \"в\", \"отпуск\" ])"
      ]
    },
    {
      "cell_type": "markdown",
      "id": "d63dcf9b",
      "metadata": {
        "id": "d63dcf9b"
      },
      "source": [
        "#### Создать функцию, которая печатает каждый элемент словарика:"
      ]
    },
    {
      "cell_type": "code",
      "execution_count": null,
      "id": "f7c2fd3b",
      "metadata": {
        "id": "f7c2fd3b",
        "outputId": "43108225-d8f8-4674-fbf3-12f92c1735b4"
      },
      "outputs": [
        {
          "name": "stdout",
          "output_type": "stream",
          "text": [
            "key1 : 2\n",
            "key3 : False\n",
            "Приветствие : Hello\n"
          ]
        }
      ],
      "source": [
        "def print_dict(my_dict):\n",
        "    for i in my_dict:\n",
        "        print(i, \":\", my_dict[i])\n",
        "print_dict({\"key1\": 2, \"key3\": False, \"Приветствие\": \"Hello\"})"
      ]
    },
    {
      "cell_type": "markdown",
      "id": "c11e5612",
      "metadata": {
        "id": "c11e5612"
      },
      "source": [
        "#### Сделать функцию, которая использует две уже написанные функции следующим образом:\n",
        "если ЗНАЧЕНИЕ это LIST --> вызывается print_list\n",
        "если ЗНАЧЕНИЕ это DICT --> вызывается print_dict\n",
        "во всех других случаях просто выводится ЗНАЧЕНИЕ"
      ]
    },
    {
      "cell_type": "code",
      "execution_count": null,
      "id": "411404ff",
      "metadata": {
        "id": "411404ff",
        "outputId": "b5f182dc-db80-4f40-e742-3b891516eb71"
      },
      "outputs": [
        {
          "name": "stdout",
          "output_type": "stream",
          "text": [
            "1\n",
            "\n",
            "\n",
            "0  :  1\n",
            "1  :  2\n",
            "2  :  3\n",
            "3  :  4\n",
            "\n",
            "\n",
            "Hello\n",
            "\n",
            "\n",
            "ciao : Mondo\n",
            "Привет : О дивный мир\n",
            "\n",
            "\n"
          ]
        }
      ],
      "source": [
        "def print_overlord(mydict):\n",
        "    for i in mydict:\n",
        "        if isinstance(mydict[i], list):\n",
        "            print_list(mydict[i])\n",
        "        elif isinstance(mydict[i], dict):\n",
        "            print_dict(mydict[i])\n",
        "        else:\n",
        "            print(mydict[i])\n",
        "        print(\"\\n\")\n",
        "\n",
        "print_overlord(dict(key1=1,\n",
        "            key2=[1, 2, 3, 4],\n",
        "            key3='Hello',\n",
        "            key4={\"ciao\":\"Mondo\", \"Привет\": \"О дивный мир\"}))"
      ]
    },
    {
      "cell_type": "markdown",
      "source": [
        "**Задачи со звездочкой**"
      ],
      "metadata": {
        "id": "JSRV-rX5BMtK"
      },
      "id": "JSRV-rX5BMtK"
    },
    {
      "cell_type": "markdown",
      "id": "5a99ab4e",
      "metadata": {
        "id": "5a99ab4e"
      },
      "source": [
        "### Задание 1*"
      ]
    },
    {
      "cell_type": "markdown",
      "id": "8ef7b427",
      "metadata": {
        "id": "8ef7b427"
      },
      "source": [
        "#### Сделать функцию, которая на вход получает фразу и печатает все отдельные слова из этой фразы.\n",
        "OUTPUT: Word1 Word2 . . . WordN Number or Words: X"
      ]
    },
    {
      "cell_type": "code",
      "execution_count": 5,
      "id": "491270bc",
      "metadata": {
        "colab": {
          "base_uri": "https://localhost:8080/"
        },
        "id": "491270bc",
        "outputId": "93d83b21-e1e1-455c-8ebc-2189478c261b"
      },
      "outputs": [
        {
          "output_type": "stream",
          "name": "stdout",
          "text": [
            "Тут\n",
            "фраза\n",
            "с\n",
            "пробелами\n",
            "и\n",
            "я\n",
            "хочу\n",
            "их\n",
            "распечатать\n",
            "по\n",
            "одному\n",
            "на\n",
            "строку\n",
            "и\n",
            "ещё\n",
            "посчитать\n",
            "слова\n",
            "Количество слов: 17\n"
          ]
        }
      ],
      "source": [
        "def word_count(phrase):\n",
        "    words = phrase.split(\" \")\n",
        "    for i in words:\n",
        "        print(i, sep=\"\\n\")\n",
        "    print(f\"Количество слов: {len(words)}\")\n",
        "\n",
        "word_count(\"Тут фраза с пробелами и я хочу их распечатать по одному на строку и ещё посчитать слова\")"
      ]
    },
    {
      "cell_type": "markdown",
      "id": "a55f6d3b",
      "metadata": {
        "id": "a55f6d3b"
      },
      "source": [
        "### Задание 2*"
      ]
    },
    {
      "cell_type": "markdown",
      "id": "0221ef48",
      "metadata": {
        "id": "0221ef48"
      },
      "source": [
        "#### Модифицировать функцию из предыдущего задания так, чтобы она считала \"вес\" каждого слова, выводя в процентное соотношение во фразе для каждого слова. Проценты печатать с точностью до 2 знаков после запятой.\n",
        "Подсказка: тут придётся два раза пройтись по строке, один раз чтобы посчитать проценты по каждому слову (токену), и другой чтобы уже это всё распечатать. Для вывода двух знаков после запятой посмотрите, например, начало L1.1, там где всякие format symbols, это которые с процентом"
      ]
    },
    {
      "cell_type": "code",
      "execution_count": 4,
      "id": "73ce9e4b",
      "metadata": {
        "colab": {
          "base_uri": "https://localhost:8080/"
        },
        "id": "73ce9e4b",
        "outputId": "8f2ef88a-079e-4d8c-e934-46eb1ef30b83"
      },
      "outputs": [
        {
          "output_type": "stream",
          "name": "stdout",
          "text": [
            "Тут : 4.23%\n",
            "фраза : 7.04%\n",
            "с : 1.41%\n",
            "пробелами : 12.68%\n",
            "и : 1.41%\n",
            "я : 1.41%\n",
            "хочу : 5.63%\n",
            "их : 2.82%\n",
            "распечатать : 15.49%\n",
            "по : 2.82%\n",
            "одному : 8.45%\n",
            "на : 2.82%\n",
            "строку : 8.45%\n",
            "и : 1.41%\n",
            "ещё : 4.23%\n",
            "посчитать : 12.68%\n",
            "слова : 7.04%\n",
            "Количество слов 17\n"
          ]
        }
      ],
      "source": [
        "def word_weigth(phrase):\n",
        "    words = phrase.split(\" \")\n",
        "    symb = 0\n",
        "    for i in words:\n",
        "        symb += len(i)\n",
        "    summ = 0\n",
        "    for i in words:\n",
        "        print(f\"{i} : {len(i)/symb*100:.2f}%\")\n",
        "    print(f\"Количество слов {len(words)}\")\n",
        "\n",
        "word_weigth(\"Тут фраза с пробелами и я хочу их распечатать по одному на строку и ещё посчитать слова\")"
      ]
    }
  ],
  "metadata": {
    "kernelspec": {
      "display_name": "Python 3 (ipykernel)",
      "language": "python",
      "name": "python3"
    },
    "language_info": {
      "codemirror_mode": {
        "name": "ipython",
        "version": 3
      },
      "file_extension": ".py",
      "mimetype": "text/x-python",
      "name": "python",
      "nbconvert_exporter": "python",
      "pygments_lexer": "ipython3",
      "version": "3.9.13"
    },
    "colab": {
      "provenance": []
    }
  },
  "nbformat": 4,
  "nbformat_minor": 5
}