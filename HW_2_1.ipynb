{
  "nbformat": 4,
  "nbformat_minor": 0,
  "metadata": {
    "colab": {
      "provenance": []
    },
    "kernelspec": {
      "name": "python3",
      "display_name": "Python 3"
    },
    "language_info": {
      "name": "python"
    }
  },
  "cells": [
    {
      "cell_type": "markdown",
      "source": [
        "Задача 1 Связанные списки\n",
        "\n",
        "Напишите функцию (пусть онабудет называться reverse_linked_list), которая разворачивает связный список. На вход она принимает головную ноду, а на выход отдаёт хвостовую ноду исходного списка, но только теперь если попробовать пройтись по ней, она будет новой головной. С функцией из примера выше,"
      ],
      "metadata": {
        "id": "8vO9iaQp5z2c"
      }
    },
    {
      "cell_type": "code",
      "source": [
        "class Node(object):\n",
        "    def __init__(self, value=None, next_node=None):\n",
        "        self.value = value\n",
        "        self.next = next_node\n",
        "\n",
        "    def __str__(self):\n",
        "        return f\"[Node with value {self.value}]\"\n",
        "\n",
        "\n",
        "def print_linked_list(head):\n",
        "    cur = head\n",
        "    while cur is not None:\n",
        "        print(cur)\n",
        "        cur = cur.next\n",
        "\n",
        "\n",
        "def reverse_linked_list(head):\n",
        "    prev = None\n",
        "    current = head\n",
        "    while current is not None:\n",
        "        next_node = current.next\n",
        "        current.next = prev\n",
        "        prev = current\n",
        "        current = next_node\n",
        "    return prev"
      ],
      "metadata": {
        "id": "HvovzWx76W_C"
      },
      "execution_count": 1,
      "outputs": []
    },
    {
      "cell_type": "code",
      "source": [
        "h, a, b, c, d = Node(1), Node(2), Node(3), Node(\"Внезапно\"), Node(5)\n",
        "\n",
        "h.next = a\n",
        "a.next = b\n",
        "b.next = c\n",
        "c.next = d\n",
        "\n",
        "print_linked_list(h)\n",
        "print_linked_list(h)\n",
        "h = reverse_linked_list(h)\n",
        "print(\"---\")\n",
        "print_linked_list(h)"
      ],
      "metadata": {
        "colab": {
          "base_uri": "https://localhost:8080/"
        },
        "id": "kIXFUJQq8fQ7",
        "outputId": "df35bb6e-1b06-4113-fd59-eb1b0fd29f2b"
      },
      "execution_count": 4,
      "outputs": [
        {
          "output_type": "stream",
          "name": "stdout",
          "text": [
            "[Node with value 1]\n",
            "[Node with value 2]\n",
            "[Node with value 3]\n",
            "[Node with value Внезапно]\n",
            "[Node with value 5]\n",
            "[Node with value 1]\n",
            "[Node with value 2]\n",
            "[Node with value 3]\n",
            "[Node with value Внезапно]\n",
            "[Node with value 5]\n",
            "---\n",
            "[Node with value 5]\n",
            "[Node with value Внезапно]\n",
            "[Node with value 3]\n",
            "[Node with value 2]\n",
            "[Node with value 1]\n"
          ]
        }
      ]
    },
    {
      "cell_type": "markdown",
      "source": [
        "Задача 2 Пузырьки\n",
        "\n",
        "Сортировкой пузырьком это один из самых простейших алгоритмов сортировки, который можно придумать. В базовом виде он подразумеват вложенный цикл и реализуется как-то так"
      ],
      "metadata": {
        "id": "kMLBeR9e9alS"
      }
    },
    {
      "cell_type": "code",
      "source": [
        "l = [2, 4, 1, 1, 2, 0]\n",
        "\n",
        "for i in range(len(l)):\n",
        "    for j in range(i, len(l)):\n",
        "        if l[i] > l[j]:\n",
        "            l[i], l[j] = l[j], l[i]\n",
        "\n",
        "print(l)"
      ],
      "metadata": {
        "colab": {
          "base_uri": "https://localhost:8080/"
        },
        "id": "vakQ42yw827h",
        "outputId": "e0146a88-b103-477e-b68b-ecfe3e7b7261"
      },
      "execution_count": 5,
      "outputs": [
        {
          "output_type": "stream",
          "name": "stdout",
          "text": [
            "[0, 1, 1, 2, 2, 4]\n"
          ]
        }
      ]
    },
    {
      "cell_type": "code",
      "source": [
        "class Node:\n",
        "    def __init__(self, data):\n",
        "        self.data = data\n",
        "        self.next = None\n",
        "\n",
        "def bubble_sort_linked_list(head):\n",
        "    if not head:\n",
        "        return None\n",
        "\n",
        "    def swap(node1, node2):\n",
        "        node1.data, node2.data = node2.data, node1.data\n",
        "\n",
        "    current = head\n",
        "    while current:\n",
        "        pointer = current.next\n",
        "        while pointer:\n",
        "            if current.data > pointer.data:\n",
        "                swap(current, pointer)\n",
        "            pointer = pointer.next\n",
        "        current = current.next\n",
        "\n",
        "    return head\n",
        "\n",
        "head = Node(2)\n",
        "head.next = Node(4)\n",
        "head.next.next = Node(1)\n",
        "head.next.next.next = Node(1)\n",
        "head.next.next.next.next = Node(2)\n",
        "head.next.next.next.next.next = Node(0)\n",
        "\n",
        "new_head = bubble_sort_linked_list(head)\n",
        "\n",
        "current = new_head\n",
        "while current:\n",
        "    print(current.data, end=\" \")\n",
        "    current = current.next"
      ],
      "metadata": {
        "colab": {
          "base_uri": "https://localhost:8080/"
        },
        "id": "Hvj-ImvA9N5e",
        "outputId": "fad48cdd-f3f7-42cc-a8e4-5f4e14ea0c19"
      },
      "execution_count": 6,
      "outputs": [
        {
          "output_type": "stream",
          "name": "stdout",
          "text": [
            "0 1 1 2 2 4 "
          ]
        }
      ]
    },
    {
      "cell_type": "markdown",
      "source": [
        "Задача 3 Pandas\n",
        "\n",
        "Выясните, сколько в среднем выходи полный счёт по пятницам на ланч у курящих мужчин (датасет tips)\n",
        "Загрузите iris и посмотрите разбросы по всем числовым значениям для всех трёх классов цветов (датасет iris)\n",
        "Создайте новый столбец с плотностью населения. Переименуйте названия первого и третьего столбца на русский язык"
      ],
      "metadata": {
        "id": "vUvkVnge9elR"
      }
    },
    {
      "cell_type": "code",
      "source": [
        "import pandas as pd\n",
        "\n",
        "# Загружаем датасет\n",
        "df = pd.read_csv('tips.csv')\n",
        "\n",
        "# Фильтруем данные по курящим мужчинам в пятницу\n",
        "friday_lunch = df[(df['day'] == 'Fri') & (df['sex'] == 'Male') & (df['smoker'] == 'Yes')]\n",
        "\n",
        "# Вычисляем средний полный счет\n",
        "average_total_bill = friday_lunch['total_bill'].mean()\n",
        "\n",
        "print(f'Средний полный счет по пятницам на ланч у курящих мужчин: {average_total_bill}')"
      ],
      "metadata": {
        "colab": {
          "base_uri": "https://localhost:8080/"
        },
        "id": "vW9aDpKB9iXB",
        "outputId": "bc163ec5-0d4b-41ec-eaa1-3a19bd17c8ea"
      },
      "execution_count": 11,
      "outputs": [
        {
          "output_type": "stream",
          "name": "stdout",
          "text": [
            "Средний полный счет по пятницам на ланч у курящих мужчин: 20.4525\n"
          ]
        }
      ]
    },
    {
      "cell_type": "code",
      "source": [
        "import pandas as pd\n",
        "\n",
        "# Загрузка датасета iris\n",
        "df = pd.read_csv('iris.csv')\n",
        "\n",
        "df_setosa = df.loc[df[\"Name\"] == \"Iris-setosa\"]\n",
        "df_virginica = df.loc[df[\"Name\"] == \"Iris-virginica\"]\n",
        "df_versicolor = df.loc[df[\"Name\"] == \"Iris-versicolor\"]\n",
        "\n",
        "print(f\"Setosa\\n{df_setosa.describe()}\\n\")\n",
        "print(f\"Virginica\\n{df_virginica.describe()}\\n\")\n",
        "print(f\"Versicolor\\n{df_versicolor.describe()}\\n\")"
      ],
      "metadata": {
        "colab": {
          "base_uri": "https://localhost:8080/"
        },
        "id": "qH-cw2td-AFE",
        "outputId": "1f491703-50d0-401a-aea8-96d30c8efe5d"
      },
      "execution_count": 10,
      "outputs": [
        {
          "output_type": "stream",
          "name": "stdout",
          "text": [
            "Setosa\n",
            "       SepalLength  SepalWidth  PetalLength  PetalWidth\n",
            "count     50.00000   50.000000    50.000000    50.00000\n",
            "mean       5.00600    3.418000     1.464000     0.24400\n",
            "std        0.35249    0.381024     0.173511     0.10721\n",
            "min        4.30000    2.300000     1.000000     0.10000\n",
            "25%        4.80000    3.125000     1.400000     0.20000\n",
            "50%        5.00000    3.400000     1.500000     0.20000\n",
            "75%        5.20000    3.675000     1.575000     0.30000\n",
            "max        5.80000    4.400000     1.900000     0.60000\n",
            "\n",
            "Virginica\n",
            "       SepalLength  SepalWidth  PetalLength  PetalWidth\n",
            "count     50.00000   50.000000    50.000000    50.00000\n",
            "mean       6.58800    2.974000     5.552000     2.02600\n",
            "std        0.63588    0.322497     0.551895     0.27465\n",
            "min        4.90000    2.200000     4.500000     1.40000\n",
            "25%        6.22500    2.800000     5.100000     1.80000\n",
            "50%        6.50000    3.000000     5.550000     2.00000\n",
            "75%        6.90000    3.175000     5.875000     2.30000\n",
            "max        7.90000    3.800000     6.900000     2.50000\n",
            "\n",
            "Versicolor\n",
            "       SepalLength  SepalWidth  PetalLength  PetalWidth\n",
            "count    50.000000   50.000000    50.000000   50.000000\n",
            "mean      5.936000    2.770000     4.260000    1.326000\n",
            "std       0.516171    0.313798     0.469911    0.197753\n",
            "min       4.900000    2.000000     3.000000    1.000000\n",
            "25%       5.600000    2.525000     4.000000    1.200000\n",
            "50%       5.900000    2.800000     4.350000    1.300000\n",
            "75%       6.300000    3.000000     4.600000    1.500000\n",
            "max       7.000000    3.400000     5.100000    1.800000\n",
            "\n"
          ]
        }
      ]
    },
    {
      "cell_type": "code",
      "source": [
        "import pandas as pd\n",
        "\n",
        "df = pd.DataFrame({\n",
        "     'country': ['Kazakhstan', 'Russia', 'Belarus', 'Ukraine'],\n",
        "     'population': [17.04, 143.5, 9.5, 45.5],\n",
        "     'square': [2724902, 17125191, 207600, 603628]\n",
        " })\n",
        "\n",
        "# Добавляем новый столбец 'density' с плотностью населения\n",
        "df['density'] = df['population'] / df['square']\n",
        "\n",
        "# Переименовываем названия столбцов\n",
        "df = df.rename(columns={'country': 'Страна', 'population': 'Население'})\n",
        "\n",
        "print(df)"
      ],
      "metadata": {
        "colab": {
          "base_uri": "https://localhost:8080/"
        },
        "id": "3nMNPWlG-HbZ",
        "outputId": "f39413df-6acc-4230-a5df-1e3bc03e5fe2"
      },
      "execution_count": 12,
      "outputs": [
        {
          "output_type": "stream",
          "name": "stdout",
          "text": [
            "       Страна  Население    square   density\n",
            "0  Kazakhstan      17.04   2724902  0.000006\n",
            "1      Russia     143.50  17125191  0.000008\n",
            "2     Belarus       9.50    207600  0.000046\n",
            "3     Ukraine      45.50    603628  0.000075\n"
          ]
        }
      ]
    }
  ]
}