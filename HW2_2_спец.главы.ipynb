{
  "nbformat": 4,
  "nbformat_minor": 0,
  "metadata": {
    "colab": {
      "provenance": []
    },
    "kernelspec": {
      "name": "python3",
      "display_name": "Python 3"
    },
    "language_info": {
      "name": "python"
    }
  },
  "cells": [
    {
      "cell_type": "code",
      "source": [
        "import numpy as np\n",
        "import pandas as pd\n",
        "from sklearn.cluster import KMeans\n",
        "import pandas as pd\n",
        "import matplotlib.pyplot as plt\n",
        "from sklearn.cluster import SpectralClustering\n",
        "from sklearn.preprocessing import StandardScaler, normalize, MinMaxScaler\n",
        "from sklearn.decomposition import PCA\n",
        "from scipy.spatial.distance import squareform\n",
        "from scipy.spatial.distance import pdist\n",
        "from sklearn.metrics import silhouette_score\n",
        "from sklearn.metrics.pairwise import cosine_similarity\n",
        "import seaborn as sns\n",
        "data = pd.read_csv('h2.csv')\n",
        "data.head()\n"
      ],
      "metadata": {
        "id": "7VaIriqeOhKr"
      },
      "execution_count": null,
      "outputs": []
    },
    {
      "cell_type": "code",
      "source": [
        "import numpy as np\n",
        "from sklearn.cluster import SpectralClustering\n",
        "from sklearn.preprocessing import StandardScaler\n",
        "from sklearn.pipeline import make_pipeline\n",
        "from sklearn.impute import SimpleImputer\n",
        "\n",
        "data = pd.read_csv('h2.csv')\n",
        "data.head()\n",
        "# Обработка пропущенных значений (если они есть)\n",
        "pipeline = make_pipeline(SimpleImputer(strategy='mean'), StandardScaler())\n",
        "processed_data = pipeline.fit_transform(data)\n",
        "\n",
        "# Реализация слабого r-связующего метода кластеризации\n",
        "clustering = SpectralClustering(n_clusters=5, affinity='rbf', gamma=1.0)\n",
        "cluster_labels = clustering.fit_predict(processed_data)\n",
        "\n",
        "# Формирование матрицы \"объект-признак\"\n",
        "object_feature_matrix = processed_data\n",
        "\n",
        "# Формирование матрицы \"объект-объект\"\n",
        "object_object_matrix = np.zeros((len(data), len(data)))\n",
        "for i in range(len(data)):\n",
        "    for j in range(len(data)):\n",
        "        object_object_matrix[i, j] = np.linalg.norm(processed_data[i] - processed_data[j])\n",
        "\n",
        "# Вывод результатов\n",
        "print(\"Метки кластеров для каждого объекта:\")\n",
        "print(cluster_labels)\n",
        "print(\"\\nМатрица 'объект-признак':\")\n",
        "print(object_feature_matrix)\n",
        "print(\"\\nМатрица 'объект-объект':\")\n",
        "print(object_object_matrix)"
      ],
      "metadata": {
        "colab": {
          "base_uri": "https://localhost:8080/"
        },
        "id": "rNbK5kvUOIJ3",
        "outputId": "c363c874-5578-4e3d-8e85-46170197f6c0"
      },
      "execution_count": null,
      "outputs": [
        {
          "output_type": "stream",
          "name": "stdout",
          "text": [
            "Метки кластеров для каждого объекта:\n",
            "[1 2 1 1 2 2 2 2 2 2 0 3 3 0 0 3 4 3 3 4 4 4 4 0 0 0 4 4 4 3 4 4 0 4 4 0 4\n",
            " 3 4 0 4 0 4 4 0 3 0 4 0 4 0 4 4 3 4 3 0 0 4 4 3 3 4 4 4 4 4 4 0 4 4 3 4 4\n",
            " 0 3 0 4 4 3 4 4 0 4 0 4 0 4 4 4 4 4 4 4 4 4 4 4 4 4 4 4 4 4 0 0 4 4 0 4 4\n",
            " 4 4 4 4 4 4 4 4 4 4 4 0 4 3 4 4 4 0 3 4 3 4 4 0 3 3 4 0 0 0 0 0 4 0 0 4 4\n",
            " 4 0 4 0 4 4 0 4 4 4 0 4 0 0 4 0 3 3 0 0 0 0 0 0 0 0 0 0 0 0 0 0 0 0 0 0 0\n",
            " 0 0 0 0 0 0 0 0 0 0 0 0 0 0 0 0 0 0 0 0 0 0 0 0 0 0 0 3 0 0 0 0 0 0 0 0 3\n",
            " 0 0 0 0 0 0 0 0 0 0 0 0 0 0 4 0 0 0 0 0 0 4 0 0 0 4 0 0 0 0 0 0 0 0 0 0 0\n",
            " 0 0 0 0 0 0 0 0 0 0 0 0 0 0 3 0 0 0 0 0 0 0 0 0 0 0 0 0 0 0 0 0 0 0 0 0 0\n",
            " 0 0 0 0 0 4 0 0 0 0 0 0 0 0 0 0 0 0 0 0 0 0 0 0 0 0 0 0 0 0 0 0 0 0 0 0 0\n",
            " 0 0 0 0 0 0 0 0 0 0 0 0 0 0 0 0 0 0 0 0 0 0 0 0 0 0 0 0 0 0 0 0 0 0 0 0 0\n",
            " 0 0 0 0 0 0 0 0 0 0 0 0 0 0 0 0 0 0 0 0 0 0 0 0 0 0 0 0 0 0 0 0 0 0 0 0 0\n",
            " 0 0 0 0 0 0 0 0 0 0 0 0 0 0 0 0 0 0 0 0 0 0 0 0 0 0 0 0 0 0 0 0 0 0 0 0 0\n",
            " 0 0 0 0 0 0 0 0 0 0 0 0 0 0 0 0 0 0 0 0 0 0 0 0 0 0 0 0 0 0 0 0 0 0 0 0 0\n",
            " 0 0 0 0 0 0 0 0 0 0 0 0 0 0 0 0 0 0 0 0 0 0 0 0 0 0 0 0 0 0 0 0 0 0 0 0 0\n",
            " 0 0 0 0 0 0 0 0 0 0 0 0 0 0 0 0 0 0 0 0 0 0 0 0 0 0 0 0 0 0 0 0 0 0 0 0 0\n",
            " 0 0 0 0 0 0 0 0 0 0 0 0 0 0 0 0 0 0 0 0 0 0 0 0 0 0 0 0 0 0 0 0 0 0 0 0 0\n",
            " 0 0 0 0 0 0 0 0 0 0 0 0 0 0 0 0 0 0 0 0 0 0 0 0 0 0 0 0 0 0 0 0 0 0 0 0 0\n",
            " 0 0 0 0 0 0 0 0 0 0 0 0 0 0 0 0 0 0 0 0 0 0 0 0 0 0 0 0 0 0 0 0 0 0 0 0 0\n",
            " 0 0 0 0 0 0 0 0 0 0 0 0 0 0 0 0 0 0 0 0 0 0 0 0 0 0 0 0 0 0 0 0 0 0 0 0 0\n",
            " 0 0 0 0 0 0 0 0 0 0 0 0 0 0 0 0 0 0 0 0 0 0 0 0 0 0 0 0 0 0 0 0 0 0 0 0 0\n",
            " 0 0 0 0 0 0 0 0 0 0 0 0 0 0 0 0 0 0 0 0 0 0 0 0 0 0 0 0 0 0 0 0 0 0 0 0 0\n",
            " 0 0 0 0 0 0 0 0 0 0 0 0 0 0 0 0 0 0 0 0 0 0 0 0 0 0 0 0 0 0 0 0 0 0 0 0 0\n",
            " 0 0 0 0 0 0 0 0 0 0 0 0 0 0 0 0 0 0 0 0 0 0 0 0 0 0 0 0 0 0 0 0 0 0 0 0 0\n",
            " 0 0 0 0 0 0 0 0 0 0 0 0 0 0 0 0 0 0 0 0 0 0 0 0 0 0 0 0 0 0 0 0 0 0 0 0 0\n",
            " 0 0 0 0 0 0 0 0 0 0 0 0 0 0 0 0 0 0 0 0 0 0 0 0 0 0 0 0 0 0 0 0 0 0 0 0 0\n",
            " 0 0 0 0 0 0 0 0 0 0 0 0 0 0 0 0 0 0 0 0 0 0 0 0 0 0 0 0 0 0 0 0 0 0 0 0 0\n",
            " 0 0 0 0 0 0 0 0 0 0 0 0 0 0 0 0 0 0 0 0 0 0 0 0 0 0 0 0 0 0 0 0 0 0 0 0 0]\n",
            "\n",
            "Матрица 'объект-признак':\n",
            "[[ 4.12054884e-01  2.65639824e+00 -8.71175597e-01 -9.72408114e+00]\n",
            " [ 4.12054884e-01 -3.76449579e-01  9.74645021e-01 -9.72408114e+00]\n",
            " [ 4.12054884e-01  2.65639824e+00 -1.79408591e+00 -9.72408114e+00]\n",
            " ...\n",
            " [ 4.12054884e-01 -3.76449579e-01  9.74645021e-01 -1.14058366e-15]\n",
            " [ 4.12054884e-01 -3.76449579e-01  9.74645021e-01 -1.14058366e-15]\n",
            " [-2.42686118e+00 -3.76449579e-01  9.74645021e-01 -1.14058366e-15]]\n",
            "\n",
            "Матрица 'объект-объект':\n",
            "[[ 0.          3.55038303  0.92291031 ... 10.35195506 10.35195506\n",
            "  10.73417058]\n",
            " [ 3.55038303  0.          4.10658457 ...  9.72408114  9.72408114\n",
            "  10.13001473]\n",
            " [ 0.92291031  4.10658457  0.         ... 10.55565208 10.55565208\n",
            "  10.93074724]\n",
            " ...\n",
            " [10.35195506  9.72408114 10.55565208 ...  0.          0.\n",
            "   2.83891606]\n",
            " [10.35195506  9.72408114 10.55565208 ...  0.          0.\n",
            "   2.83891606]\n",
            " [10.73417058 10.13001473 10.93074724 ...  2.83891606  2.83891606\n",
            "   0.        ]]\n"
          ]
        }
      ]
    }
  ]
}